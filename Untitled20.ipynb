{
  "nbformat": 4,
  "nbformat_minor": 0,
  "metadata": {
    "colab": {
      "provenance": [],
      "authorship_tag": "ABX9TyOIZa8FvuQSSLoeuCTkuzv/",
      "include_colab_link": true
    },
    "kernelspec": {
      "name": "python3",
      "display_name": "Python 3"
    },
    "language_info": {
      "name": "python"
    }
  },
  "cells": [
    {
      "cell_type": "markdown",
      "metadata": {
        "id": "view-in-github",
        "colab_type": "text"
      },
      "source": [
        "<a href=\"https://colab.research.google.com/github/yashh8-web/Convert_Colored_Video_to_Grey_Scale/blob/main/Untitled20.ipynb\" target=\"_parent\"><img src=\"https://colab.research.google.com/assets/colab-badge.svg\" alt=\"Open In Colab\"/></a>"
      ]
    },
    {
      "cell_type": "code",
      "source": [
        "import cv2\n",
        "import tqdm\n",
        "import os"
      ],
      "metadata": {
        "id": "wmjgyDSLU7zb"
      },
      "execution_count": 1,
      "outputs": []
    },
    {
      "cell_type": "code",
      "source": [
        "!wget -O sample_video.mp4 \"https://sample-videos.com/video123/mp4/720/big_buck_bunny_720p_1mb.mp4\""
      ],
      "metadata": {
        "colab": {
          "base_uri": "https://localhost:8080/"
        },
        "id": "ilAXqMptU-2n",
        "outputId": "6d4a9250-5e3a-414f-c828-48143aeca197"
      },
      "execution_count": 2,
      "outputs": [
        {
          "output_type": "stream",
          "name": "stdout",
          "text": [
            "--2025-07-06 06:02:21--  https://sample-videos.com/video123/mp4/720/big_buck_bunny_720p_1mb.mp4\n",
            "Resolving sample-videos.com (sample-videos.com)... 103.145.51.95\n",
            "Connecting to sample-videos.com (sample-videos.com)|103.145.51.95|:443... connected.\n",
            "HTTP request sent, awaiting response... 404 Not Found\n",
            "2025-07-06 06:02:22 ERROR 404: Not Found.\n",
            "\n"
          ]
        }
      ]
    },
    {
      "cell_type": "code",
      "source": [
        "INPUT_VIDEO = \"sample_video.mp4\"\n",
        "OUTPUT_VIDEO = \"grey_output.mp4\""
      ],
      "metadata": {
        "id": "lAyDfC5mVCa6"
      },
      "execution_count": 3,
      "outputs": []
    },
    {
      "cell_type": "code",
      "source": [
        "import os, subprocess, textwrap, pathlib\n",
        "\n",
        "# List current folder\n",
        "!ls -lh\n",
        "\n",
        "# Explicit check\n",
        "print(\"File present? ➜\", os.path.exists(\"sample_video.mp4\"))"
      ],
      "metadata": {
        "colab": {
          "base_uri": "https://localhost:8080/"
        },
        "id": "2T5Ng7prVX5m",
        "outputId": "3cc94a99-f939-4e3b-b2a2-3e5777287f39"
      },
      "execution_count": 5,
      "outputs": [
        {
          "output_type": "stream",
          "name": "stdout",
          "text": [
            "total 4.0K\n",
            "drwxr-xr-x 1 root root 4.0K Jul  1 21:04 sample_data\n",
            "-rw-r--r-- 1 root root    0 Jul  6 06:02 sample_video.mp4\n",
            "File present? ➜ True\n"
          ]
        }
      ]
    },
    {
      "cell_type": "code",
      "source": [
        "!stat -c \"%n  →  %s bytes\" sample_video.mp4"
      ],
      "metadata": {
        "colab": {
          "base_uri": "https://localhost:8080/"
        },
        "id": "Fiu2opwfVZMU",
        "outputId": "a8637370-9ba4-47ef-9dbb-92f890c3712b"
      },
      "execution_count": 6,
      "outputs": [
        {
          "output_type": "stream",
          "name": "stdout",
          "text": [
            "sample_video.mp4  →  0 bytes\n"
          ]
        }
      ]
    },
    {
      "cell_type": "code",
      "source": [
        "!curl -L -o sample_video.mp4 \"https://filesamples.com/samples/video/mp4/sample_640x360.mp4\""
      ],
      "metadata": {
        "colab": {
          "base_uri": "https://localhost:8080/"
        },
        "id": "uEWl0DPcVcJW",
        "outputId": "b7189991-b44f-4d5a-b4b6-08f27b5e7155"
      },
      "execution_count": 7,
      "outputs": [
        {
          "output_type": "stream",
          "name": "stdout",
          "text": [
            "  % Total    % Received % Xferd  Average Speed   Time    Time     Time  Current\n",
            "                                 Dload  Upload   Total   Spent    Left  Speed\n",
            "\r  0     0    0     0    0     0      0      0 --:--:-- --:--:-- --:--:--     0\r100  561k    0  561k    0     0  3400k      0 --:--:-- --:--:-- --:--:-- 3422k\n"
          ]
        }
      ]
    },
    {
      "cell_type": "code",
      "source": [
        "INPUT_VIDEO  = \"sample_video.mp4\"   # make sure file exists\n",
        "OUTPUT_VIDEO = \"grey_output.mp4\"\n",
        "\n",
        "import cv2, os, tqdm\n",
        "\n",
        "# ---------- open video ------------\n",
        "cap = cv2.VideoCapture(INPUT_VIDEO)\n",
        "if not cap.isOpened():\n",
        "    raise Exception(\"❌ Video read nahi hua! Check file path / codec.\")\n",
        "\n",
        "fps   = cap.get(cv2.CAP_PROP_FPS) or 30   # fallback fps\n",
        "w     = int(cap.get(cv2.CAP_PROP_FRAME_WIDTH))\n",
        "h     = int(cap.get(cv2.CAP_PROP_FRAME_HEIGHT))\n",
        "total = int(cap.get(cv2.CAP_PROP_FRAME_COUNT))\n",
        "\n",
        "fourcc = cv2.VideoWriter_fourcc(*'mp4v')\n",
        "out    = cv2.VideoWriter(OUTPUT_VIDEO, fourcc, fps, (w, h), isColor=False)\n",
        "\n",
        "for _ in tqdm.tqdm(range(total), desc=\"Converting ➜ Grey\"):\n",
        "    ok, frame = cap.read()\n",
        "    if not ok: break\n",
        "    out.write(cv2.cvtColor(frame, cv2.COLOR_BGR2GRAY))\n",
        "\n",
        "cap.release(); out.release()\n",
        "print(\"✅ Grey video ready →\", OUTPUT_VIDEO)"
      ],
      "metadata": {
        "colab": {
          "base_uri": "https://localhost:8080/"
        },
        "id": "P8RUo2NAVfTd",
        "outputId": "a78815fc-f35e-4672-e154-7d579958b0ad"
      },
      "execution_count": 8,
      "outputs": [
        {
          "output_type": "stream",
          "name": "stderr",
          "text": [
            "Converting ➜ Grey: 100%|██████████| 400/400 [00:01<00:00, 258.12it/s]"
          ]
        },
        {
          "output_type": "stream",
          "name": "stdout",
          "text": [
            "✅ Grey video ready → grey_output.mp4\n"
          ]
        },
        {
          "output_type": "stream",
          "name": "stderr",
          "text": [
            "\n"
          ]
        }
      ]
    }
  ]
}